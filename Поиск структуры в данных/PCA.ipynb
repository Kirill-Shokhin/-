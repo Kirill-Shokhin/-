{
  "nbformat": 4,
  "nbformat_minor": 0,
  "metadata": {
    "kernelspec": {
      "display_name": "Python 3",
      "language": "python",
      "name": "python3"
    },
    "language_info": {
      "codemirror_mode": {
        "name": "ipython",
        "version": 3
      },
      "file_extension": ".py",
      "mimetype": "text/x-python",
      "name": "python",
      "nbconvert_exporter": "python",
      "pygments_lexer": "ipython3",
      "version": "3.6.8"
    },
    "colab": {
      "name": "PCA.ipynb",
      "provenance": [],
      "collapsed_sections": [],
      "include_colab_link": true
    }
  },
  "cells": [
    {
      "cell_type": "markdown",
      "metadata": {
        "id": "view-in-github",
        "colab_type": "text"
      },
      "source": [
        "<a href=\"https://colab.research.google.com/github/Kirill-Shokhin/Coursera-ML-/blob/main/%D0%9F%D0%BE%D0%B8%D1%81%D0%BA%20%D1%81%D1%82%D1%80%D1%83%D0%BA%D1%82%D1%83%D1%80%D1%8B%20%D0%B2%20%D0%B4%D0%B0%D0%BD%D0%BD%D1%8B%D1%85/PCA.ipynb\" target=\"_parent\"><img src=\"https://colab.research.google.com/assets/colab-badge.svg\" alt=\"Open In Colab\"/></a>"
      ]
    },
    {
      "cell_type": "markdown",
      "metadata": {
        "id": "O0GO94YTsA1f"
      },
      "source": [
        "**Корректность проверена на Python 3.6:**\n",
        "+ pandas 0.23.4\n",
        "+ numpy 1.15.4\n",
        "+ matplotlib 3.0.2\n",
        "+ sklearn 0.20.2"
      ]
    },
    {
      "cell_type": "markdown",
      "metadata": {
        "id": "w8Z7g05isA1q"
      },
      "source": [
        "# Метод главных компонент\n",
        "\n",
        "В данном задании вам будет предложено ознакомиться с подходом, который переоткрывался в самых разных областях, имеет множество разных интерпретаций, а также несколько интересных обобщений: методом главных компонент (principal component analysis)."
      ]
    },
    {
      "cell_type": "markdown",
      "metadata": {
        "id": "ozCixwHnsA1r"
      },
      "source": [
        "## Programming assignment\n",
        "\n",
        "Задание разбито на две части: \n",
        "- работа с модельными данными,\n",
        "- работа с реальными данными.\n",
        "\n",
        "В конце каждого пункта от вас требуется получить ответ и загрузить в соответствующую форму в виде набора текстовых файлов."
      ]
    },
    {
      "cell_type": "code",
      "metadata": {
        "id": "3WGtf9uVsA1s"
      },
      "source": [
        "import numpy as np\n",
        "import pandas as pd\n",
        "import matplotlib\n",
        "from matplotlib import pyplot as plt\n",
        "import matplotlib.patches as mpatches\n",
        "matplotlib.style.use('ggplot')\n",
        "%matplotlib inline"
      ],
      "execution_count": null,
      "outputs": []
    },
    {
      "cell_type": "markdown",
      "metadata": {
        "id": "E5lWvCeEsA1s"
      },
      "source": [
        "## Теория\n",
        "\n",
        "Любой набор данных представляет собой матрицу $X$.\n",
        "\n",
        "Метод главных компонент последовательно находит следующие линейные комбинации признаков (компоненты) из $X$:\n",
        "- каждая компонента ортогональна всем остальным и нормированна: $<w_i, w_j> = 0, \\quad ||w_i||=1$,\n",
        "- каждая компонента описывает максимально возможную дисперсию данных (с учётом предыдущего ограничения).\n",
        "\n",
        "Предположения, в рамках которых данный подход будет работать хорошо:\n",
        "- линейность компонент: мы предполагаем, что данные можно анализировать линейными методами,\n",
        "- большие дисперсии важны: предполагается, что наиболее важны те направления в данных, вдоль которых они имеют наибольшую дисперсию,\n",
        "- все компоненты ортогональны: это предположение позволяет проводить анализ главных компонент при помощи техник линейной алгебры (например, сингулярное разложение матрицы $X$ или спектральное разложение матрицы $X^TX$).\n",
        "\n",
        "Как это выглядит математически?\n",
        "\n",
        "Обозначим следующим образом выборочную матрицу ковариации данных: $\\hat{C} \\propto Q = X^TX$. ($Q$ отличается от $\\hat{C}$ нормировкой на число объектов).\n",
        "\n",
        "Сингулярное разложение матрицы $Q$ выглядит следующим образом:\n",
        "\n",
        "$$Q = X^TX = W \\Lambda W^T$$\n",
        "\n",
        "Можно строго показать, что столбцы матрицы $W$ являются главными компонентами матрицы $X$, т.е. комбинациями признаков, удовлетворяющих двум условиям, указанным в начале. При этом дисперсия данных вдоль направления, заданного каждой компонентой, равна соответствующему значению диагональной матрицы $\\Lambda$.\n",
        "\n",
        "Как же на основании этого преобразования производить уменьшение размерности? Мы можем отранжировать компоненты, используя значения дисперсий данных вдоль них.\n",
        "\n",
        "Сделаем это: $\\lambda_{(1)} > \\lambda_{(2)} > \\dots > \\lambda_{(D)}$.\n",
        "\n",
        "Тогда, если мы выберем компоненты, соответствующие первым $d$ дисперсиям из этого списка, мы получим набор из $d$ новых признаков, которые наилучшим образом описывают дисперсию изначального набора данных среди всех других возможных линейных комбинаций исходных признаков матрицы $X$. \n",
        "- Если $d=D$, то мы вообще не теряем никакой информации.\n",
        "- Если $d<D$, то мы теряем информацию, которая, при справедливости указанных выше предположений, будет пропорциональна сумме дисперсий отброшенных компонент.\n",
        "\n",
        "Получается, что метод главных компонент позволяет нам ранжировать полученные компоненты по \"значимости\", а также запустить процесс их отбора."
      ]
    },
    {
      "cell_type": "markdown",
      "metadata": {
        "id": "tHDI71u_sA1t"
      },
      "source": [
        "## Пример\n",
        "\n",
        "Рассмотрим набор данных, который сэмплирован из многомерного нормального распределения с матрицей ковариации $C = \\begin{pmatrix} 3 & 1 \\\\ 1 & 2 \\end{pmatrix}$."
      ]
    },
    {
      "cell_type": "code",
      "metadata": {
        "colab": {
          "base_uri": "https://localhost:8080/",
          "height": 265
        },
        "id": "Um2Pcyo3sA1t",
        "outputId": "ef6f2a93-bbcc-426a-8cce-fb094a6356d5"
      },
      "source": [
        "from sklearn.decomposition import PCA\n",
        "\n",
        "mu = np.zeros(2)\n",
        "C = np.array([[3,1],[1,2]])\n",
        "\n",
        "data = np.random.multivariate_normal(mu, C, size=50)\n",
        "plt.scatter(data[:,0], data[:,1])\n",
        "plt.show()"
      ],
      "execution_count": null,
      "outputs": [
        {
          "output_type": "display_data",
          "data": {
            "image/png": "[encoded data removed]",
            "text/plain": [
              "<Figure size 432x288 with 1 Axes>"
            ]
          },
          "metadata": {
            "tags": [],
            "needs_background": "light"
          }
        }
      ]
    },
    {
      "cell_type": "markdown",
      "metadata": {
        "id": "DWlV5y18sA1u"
      },
      "source": [
        "Путём диагонализации истинной матрицы ковариаций $C$, мы можем найти преобразование исходного набора данных, компоненты которого наилучшим образом будут описывать дисперсию, с учётом их ортогональности друг другу:"
      ]
    },
    {
      "cell_type": "code",
      "metadata": {
        "colab": {
          "base_uri": "https://localhost:8080/",
          "height": 265
        },
        "id": "M0kG8hmssA1u",
        "outputId": "1ca932d9-877a-40a2-88dd-dd3a89e3375c"
      },
      "source": [
        "v, W_true = np.linalg.eig(C)\n",
        "\n",
        "plt.scatter(data[:,0], data[:,1])\n",
        "# построим истинные компоненты, вдоль которых максимальна дисперсия данных\n",
        "plt.plot(data[:,0], (W_true[0,0]/W_true[0,1])*data[:,0], color=\"g\")\n",
        "plt.plot(data[:,0], (W_true[1,0]/W_true[1,1])*data[:,0], color=\"g\")\n",
        "g_patch = mpatches.Patch(color='g', label='True components')\n",
        "plt.legend(handles=[g_patch])\n",
        "plt.axis('equal')\n",
        "limits = [np.minimum(np.amin(data[:,0]), np.amin(data[:,1])),\n",
        "          np.maximum(np.amax(data[:,0]), np.amax(data[:,1]))]\n",
        "plt.xlim(limits[0],limits[1])\n",
        "plt.ylim(limits[0],limits[1])\n",
        "plt.draw()"
      ],
      "execution_count": null,
      "outputs": [
        {
          "output_type": "display_data",
          "data": {
            "image/png": "[encoded data removed]",
            "text/plain": [
              "<Figure size 432x288 with 1 Axes>"
            ]
          },
          "metadata": {
            "tags": [],
            "needs_background": "light"
          }
        }
      ]
    },
    {
      "cell_type": "markdown",
      "metadata": {
        "id": "i-sqPpDPsA1v"
      },
      "source": [
        "А теперь сравним эти направления с направлениями, которые выбирает метод главных компонент:"
      ]
    },
    {
      "cell_type": "code",
      "metadata": {
        "id": "SsEcYmUbsA1v"
      },
      "source": [
        "def plot_principal_components(data, model, scatter=True, legend=True):\n",
        "    W_pca = model.components_\n",
        "    if scatter:\n",
        "        plt.scatter(data[:,0], data[:,1])\n",
        "    plt.plot(data[:,0], -(W_pca[0,0]/W_pca[0,1])*data[:,0], color=\"c\")\n",
        "    plt.plot(data[:,0], -(W_pca[1,0]/W_pca[1,1])*data[:,0], color=\"c\")\n",
        "    if legend:\n",
        "        c_patch = mpatches.Patch(color='c', label='Principal components')\n",
        "        plt.legend(handles=[c_patch], loc='lower right')\n",
        "    # сделаем графики красивыми:\n",
        "    plt.axis('equal')\n",
        "    limits = [np.minimum(np.amin(data[:,0]), np.amin(data[:,1]))-0.5,\n",
        "              np.maximum(np.amax(data[:,0]), np.amax(data[:,1]))+0.5]\n",
        "    plt.xlim(limits[0],limits[1])\n",
        "    plt.ylim(limits[0],limits[1])\n",
        "    plt.draw()"
      ],
      "execution_count": null,
      "outputs": []
    },
    {
      "cell_type": "code",
      "metadata": {
        "colab": {
          "base_uri": "https://localhost:8080/",
          "height": 265
        },
        "id": "yAPYSTZosA1w",
        "outputId": "45c4beb5-e685-419b-d7c2-c8bba6b72ef8"
      },
      "source": [
        "model = PCA(n_components=2)\n",
        "model.fit(data)\n",
        "\n",
        "plt.scatter(data[:,0], data[:,1])\n",
        "# построим истинные компоненты, вдоль которых максимальна дисперсия данных\n",
        "plt.plot(data[:,0], (W_true[0,0]/W_true[0,1])*data[:,0], color=\"g\")\n",
        "plt.plot(data[:,0], (W_true[1,0]/W_true[1,1])*data[:,0], color=\"g\")\n",
        "# построим компоненты, полученные с использованием метода PCA:\n",
        "plot_principal_components(data, model, scatter=False, legend=False)\n",
        "c_patch = mpatches.Patch(color='c', label='Principal components')\n",
        "plt.legend(handles=[g_patch, c_patch])\n",
        "plt.draw()"
      ],
      "execution_count": null,
      "outputs": [
        {
          "output_type": "display_data",
          "data": {
            "image/png": "[encoded data removed]",
            "text/plain": [
              "<Figure size 432x288 with 1 Axes>"
            ]
          },
          "metadata": {
            "tags": [],
            "needs_background": "light"
          }
        }
      ]
    },
    {
      "cell_type": "markdown",
      "metadata": {
        "id": "V6JtJv56sA1w"
      },
      "source": [
        "Видно, что уже при небольшом количестве данных они отличаются незначительно. Увеличим размер выборки:"
      ]
    },
    {
      "cell_type": "code",
      "metadata": {
        "colab": {
          "base_uri": "https://localhost:8080/",
          "height": 265
        },
        "id": "p13qe_HosA1w",
        "outputId": "5aa1983d-7aee-4f9a-aa6f-4a2d95d4f9a1"
      },
      "source": [
        "data_large = np.random.multivariate_normal(mu, C, size=5000)\n",
        "\n",
        "model = PCA(n_components=2)\n",
        "model.fit(data_large)\n",
        "plt.scatter(data_large[:,0], data_large[:,1], alpha=0.1)\n",
        "# построим истинные компоненты, вдоль которых максимальна дисперсия данных\n",
        "plt.plot(data_large[:,0], (W_true[0,0]/W_true[0,1])*data_large[:,0], color=\"g\")\n",
        "plt.plot(data_large[:,0], (W_true[1,0]/W_true[1,1])*data_large[:,0], color=\"g\")\n",
        "# построим компоненты, полученные с использованием метода PCA:\n",
        "plot_principal_components(data_large, model, scatter=False, legend=False)\n",
        "c_patch = mpatches.Patch(color='c', label='Principal components')\n",
        "plt.legend(handles=[g_patch, c_patch])\n",
        "plt.draw()"
      ],
      "execution_count": null,
      "outputs": [
        {
          "output_type": "display_data",
          "data": {
            "image/png": "[encoded data removed]",
            "text/plain": [
              "<Figure size 432x288 with 1 Axes>"
            ]
          },
          "metadata": {
            "tags": [],
            "needs_background": "light"
          }
        }
      ]
    },
    {
      "cell_type": "markdown",
      "metadata": {
        "id": "lXt0kY8dsA1x"
      },
      "source": [
        "В этом случае главные компоненты значительно точнее приближают истинные направления данных, вдоль которых наблюдается наибольшая дисперсия."
      ]
    },
    {
      "cell_type": "markdown",
      "metadata": {
        "id": "cxOeUd88sA1x"
      },
      "source": [
        "## Статистический взгляд на модель\n",
        "\n",
        "Как формализовать предположения метода, указанные выше? При помощи вероятностной модели!\n",
        "\n",
        "Задача, стоящая за любым методом уменьшения размерности: получить из набора зашумлённых признаков $X$ истинные значения $Y$, которые на самом деле определяют набор данных (т.е. сведение датасета с большим количеством признаков к данным, имеющим т.н. \"эффективную размерность\").\n",
        "\n",
        "В случае метода главных компонент мы хотим найти направления, вдоль которых максимальна дисперсия, с учётом описанных выше предположений о структуре данных и компонент.\n",
        "\n",
        "Материал, описанный ниже в данной секции, не обязателен для ознакомления для выполнения следующего задания, т.к. требует некоторых знаний статистики.\n",
        "\n",
        "Для тех, кто собирается его пропустить: в конце раздела мы получим метрику качества, которая должна определять, насколько данные хорошо описываются построенной моделью при заданном числе компонент. Отбор признаков при этом сводится к тому, что мы выбираем то количество компонент, при котором используемая метрика (логарифм правдоподобия) является максимальной.\n",
        "\n",
        "С учётом предположений задача метода главных компонент выглядит следующим образом:\n",
        "\n",
        "$$ x = Wy + \\mu + \\epsilon$$\n",
        "\n",
        "где:\n",
        "- $x$ -- наблюдаемые данные\n",
        "- $W$ -- матрица главных компонент (каждый стобец -- одна компонента)\n",
        "- $y$ -- их проекция на главные компоненты\n",
        "- $\\mu$ -- среднее наблюдаемых данных\n",
        "- $\\epsilon \\sim \\mathcal{N}(0, \\sigma^2I)$ -- нормальный шум\n",
        "\n",
        "Исходя из распределения шума, выпишем распределение на $x$:\n",
        "\n",
        "$$p(x \\mid y) = \\mathcal{N}(Wx + \\mu, \\sigma^2I) $$\n",
        "\n",
        "Введём априорное распределение на $y$:\n",
        "\n",
        "$$p(y) = \\mathcal{N}(0, 1)$$\n",
        "\n",
        "Выведем из этого при помощи формулы Байеса маргинальное распределение на $p(x)$:\n",
        "\n",
        "$$p(x) = \\mathcal{N}(\\mu, \\sigma^2I + WW^T)$$\n",
        "\n",
        "Тогда правдоподобие набора данных при условии используемой модели выглядит следующим образом:\n",
        "\n",
        "$$\\mathcal{L} = \\sum_{i=1}^N \\log p(x_i) = -N/2 \\Big( d\\log(2\\pi) + \\log |C| + \\text{tr}(C^{-1}S) \\Big)$$\n",
        "\n",
        "где:\n",
        "- $C = \\sigma^2I + WW^T$ -- матрица ковариации в маргинальной модели\n",
        "- $S = \\frac{1}{N} \\sum_{i=1}^N (x_i - \\mu)(x_i - \\mu)^T$ -- выборочная ковариация\n",
        "\n",
        "Значение $\\mathcal{L}$ имеет смысл логарифма вероятности получения набора данных $X$ при условии, что он удовлетворяет предположениям модели метода главных компонент. Чем оно больше -- тем лучше модель описывает наблюдаемые данные."
      ]
    },
    {
      "cell_type": "markdown",
      "metadata": {
        "id": "ffLhU7XLsA1z"
      },
      "source": [
        "## Задание 1. Автоматическое уменьшение размерности данных при помощи логарифма правдоподобия $\\mathcal{L}$\n",
        "\n",
        "Рассмотрим набор данных размерности $D$, чья реальная размерность значительно меньше наблюдаемой (назовём её $d$). От вас требуется:\n",
        "\n",
        "1. Для каждого значения $\\hat{d}$ в интервале [1,D] построить модель PCA с $\\hat{d}$ главными компонентами.\n",
        "2. Оценить средний логарифм правдоподобия данных для каждой модели на генеральной совокупности, используя метод кросс-валидации с 3 фолдами (итоговая оценка значения логарифма правдоподобия усредняется по всем фолдам).\n",
        "3. Найти модель, для которой он максимален, и внести в файл ответа число компонент в данной модели, т.е. значение $\\hat{d}_{opt}$.\n",
        "\n",
        "Для оценки логарифма правдоподобия модели для заданного числа главных компонент при помощи метода кросс-валидации используйте следующие функции:\n",
        "\n",
        "    model = PCA(n_components=n)\n",
        "    scores = cv_score(model, data)\n",
        "        \n",
        "Обратите внимание, что scores -- это вектор, длина которого равна числу фолдов. Для получения оценки на правдоподобие модели его значения требуется усреднить.\n",
        "\n",
        "Для визуализации оценок можете использовать следующую функцию:\n",
        "\n",
        "    plot_scores(d_scores)\n",
        "    \n",
        "которой на вход передаётся вектор полученных оценок логарифма правдоподобия данных для каждого $\\hat{d}$.\n",
        "\n",
        "Для интересующихся: данные для заданий 1 и 2 были сгенерированны в соответствии с предполагаемой PCA моделью. То есть: данные $Y$ с эффективной размерностью $d$, полученные из независимых равномерных распределений, линейно траснформированны случайной матрицей $W$ в пространство размерностью $D$, после чего ко всем признакам был добавлен независимый нормальный шум с дисперсией $\\sigma$."
      ]
    },
    {
      "cell_type": "code",
      "metadata": {
        "id": "Q95FDB3osA10"
      },
      "source": [
        "from sklearn.decomposition import PCA\n",
        "from sklearn.model_selection import cross_val_score as cv_score\n",
        "\n",
        "def plot_scores(d_scores):\n",
        "    n_components = np.arange(1,d_scores.size+1)\n",
        "    plt.plot(n_components, d_scores, 'b', label='PCA scores')\n",
        "    plt.xlim(n_components[0], n_components[-1])\n",
        "    plt.xlabel('n components')\n",
        "    plt.ylabel('cv scores')\n",
        "    plt.legend(loc='lower right')\n",
        "    plt.show()\n",
        "    \n",
        "def write_answer_1(optimal_d):\n",
        "    with open(\"pca_answer1.txt\", \"w\") as fout:\n",
        "        fout.write(str(optimal_d))\n",
        "#Place your cod here        "
      ],
      "execution_count": null,
      "outputs": []
    },
    {
      "cell_type": "code",
      "metadata": {
        "colab": {
          "base_uri": "https://localhost:8080/"
        },
        "id": "QIMczYyzzLqe",
        "outputId": "beb3fbfa-a0da-46cf-9aad-4c89fc3a8a67"
      },
      "source": [
        "from google.colab import drive\r\n",
        "drive.mount('/content/drive')"
      ],
      "execution_count": null,
      "outputs": [
        {
          "output_type": "stream",
          "text": [
            "Drive already mounted at /content/drive; to attempt to forcibly remount, call drive.mount(\"/content/drive\", force_remount=True).\n"
          ],
          "name": "stdout"
        }
      ]
    },
    {
      "cell_type": "code",
      "metadata": {
        "colab": {
          "base_uri": "https://localhost:8080/",
          "height": 221
        },
        "id": "qgzLTCXlzwcY",
        "outputId": "310092fd-e5b7-4282-a436-162d3f6ce9da"
      },
      "source": [
        "data = pd.read_csv('/content/drive/MyDrive/Colab Notebooks/data_task1.csv')\r\n",
        "data.head()"
      ],
      "execution_count": null,
      "outputs": [
        {
          "output_type": "execute_result",
          "data": {
            "text/html": [
              "<div>\n",
              "<style scoped>\n",
              "    .dataframe tbody tr th:only-of-type {\n",
              "        vertical-align: middle;\n",
              "    }\n",
              "\n",
              "    .dataframe tbody tr th {\n",
              "        vertical-align: top;\n",
              "    }\n",
              "\n",
              "    .dataframe thead th {\n",
              "        text-align: right;\n",
              "    }\n",
              "</style>\n",
              "<table border=\"1\" class=\"dataframe\">\n",
              "  <thead>\n",
              "    <tr style=\"text-align: right;\">\n",
              "      <th></th>\n",
              "      <th>0</th>\n",
              "      <th>1</th>\n",
              "      <th>2</th>\n",
              "      <th>3</th>\n",
              "      <th>4</th>\n",
              "      <th>5</th>\n",
              "      <th>6</th>\n",
              "      <th>7</th>\n",
              "      <th>8</th>\n",
              "      <th>9</th>\n",
              "      <th>10</th>\n",
              "      <th>11</th>\n",
              "      <th>12</th>\n",
              "      <th>13</th>\n",
              "      <th>14</th>\n",
              "      <th>15</th>\n",
              "      <th>16</th>\n",
              "      <th>17</th>\n",
              "      <th>18</th>\n",
              "      <th>19</th>\n",
              "      <th>20</th>\n",
              "      <th>21</th>\n",
              "      <th>22</th>\n",
              "      <th>23</th>\n",
              "      <th>24</th>\n",
              "      <th>25</th>\n",
              "      <th>26</th>\n",
              "      <th>27</th>\n",
              "      <th>28</th>\n",
              "      <th>29</th>\n",
              "      <th>30</th>\n",
              "      <th>31</th>\n",
              "      <th>32</th>\n",
              "      <th>33</th>\n",
              "      <th>34</th>\n",
              "      <th>35</th>\n",
              "      <th>36</th>\n",
              "      <th>37</th>\n",
              "      <th>38</th>\n",
              "      <th>39</th>\n",
              "      <th>40</th>\n",
              "      <th>41</th>\n",
              "      <th>42</th>\n",
              "      <th>43</th>\n",
              "      <th>44</th>\n",
              "      <th>45</th>\n",
              "      <th>46</th>\n",
              "      <th>47</th>\n",
              "      <th>48</th>\n",
              "      <th>49</th>\n",
              "      <th>50</th>\n",
              "      <th>51</th>\n",
              "      <th>52</th>\n",
              "      <th>53</th>\n",
              "      <th>54</th>\n",
              "      <th>55</th>\n",
              "      <th>56</th>\n",
              "      <th>57</th>\n",
              "      <th>58</th>\n",
              "      <th>59</th>\n",
              "      <th>60</th>\n",
              "      <th>61</th>\n",
              "      <th>62</th>\n",
              "      <th>63</th>\n",
              "      <th>64</th>\n",
              "      <th>65</th>\n",
              "      <th>66</th>\n",
              "      <th>67</th>\n",
              "      <th>68</th>\n",
              "      <th>69</th>\n",
              "      <th>70</th>\n",
              "      <th>71</th>\n",
              "      <th>72</th>\n",
              "      <th>73</th>\n",
              "      <th>74</th>\n",
              "      <th>75</th>\n",
              "      <th>76</th>\n",
              "      <th>77</th>\n",
              "      <th>78</th>\n",
              "      <th>79</th>\n",
              "    </tr>\n",
              "  </thead>\n",
              "  <tbody>\n",
              "    <tr>\n",
              "      <th>0</th>\n",
              "      <td>-0.238399</td>\n",
              "      <td>-1.311330</td>\n",
              "      <td>-0.782298</td>\n",
              "      <td>-0.341821</td>\n",
              "      <td>0.469353</td>\n",
              "      <td>-0.431860</td>\n",
              "      <td>0.602948</td>\n",
              "      <td>1.220206</td>\n",
              "      <td>1.525103</td>\n",
              "      <td>-0.991354</td>\n",
              "      <td>0.052124</td>\n",
              "      <td>-1.022019</td>\n",
              "      <td>0.483689</td>\n",
              "      <td>1.839115</td>\n",
              "      <td>-0.212797</td>\n",
              "      <td>0.529358</td>\n",
              "      <td>1.971039</td>\n",
              "      <td>0.114109</td>\n",
              "      <td>0.170909</td>\n",
              "      <td>1.788982</td>\n",
              "      <td>-0.778684</td>\n",
              "      <td>-0.605283</td>\n",
              "      <td>-1.571049</td>\n",
              "      <td>0.363071</td>\n",
              "      <td>-0.828969</td>\n",
              "      <td>0.696452</td>\n",
              "      <td>0.376948</td>\n",
              "      <td>-1.144336</td>\n",
              "      <td>-1.579117</td>\n",
              "      <td>0.966647</td>\n",
              "      <td>0.656716</td>\n",
              "      <td>-2.487433</td>\n",
              "      <td>2.094562</td>\n",
              "      <td>0.773147</td>\n",
              "      <td>-0.305943</td>\n",
              "      <td>-0.114573</td>\n",
              "      <td>0.551310</td>\n",
              "      <td>0.511711</td>\n",
              "      <td>-0.243574</td>\n",
              "      <td>0.413818</td>\n",
              "      <td>-0.864634</td>\n",
              "      <td>-0.489771</td>\n",
              "      <td>0.047614</td>\n",
              "      <td>-0.149748</td>\n",
              "      <td>1.022491</td>\n",
              "      <td>0.777445</td>\n",
              "      <td>2.069198</td>\n",
              "      <td>-0.328999</td>\n",
              "      <td>0.576232</td>\n",
              "      <td>1.674856</td>\n",
              "      <td>0.959735</td>\n",
              "      <td>-0.557136</td>\n",
              "      <td>-0.345472</td>\n",
              "      <td>1.749801</td>\n",
              "      <td>-0.698369</td>\n",
              "      <td>0.476349</td>\n",
              "      <td>-0.046956</td>\n",
              "      <td>0.963481</td>\n",
              "      <td>-2.133060</td>\n",
              "      <td>-0.974819</td>\n",
              "      <td>-0.798078</td>\n",
              "      <td>1.108247</td>\n",
              "      <td>0.082940</td>\n",
              "      <td>-0.157015</td>\n",
              "      <td>0.526050</td>\n",
              "      <td>-0.929391</td>\n",
              "      <td>1.097853</td>\n",
              "      <td>-0.712134</td>\n",
              "      <td>0.737989</td>\n",
              "      <td>-0.342325</td>\n",
              "      <td>-0.559927</td>\n",
              "      <td>-0.532534</td>\n",
              "      <td>-0.465923</td>\n",
              "      <td>0.874697</td>\n",
              "      <td>-0.108972</td>\n",
              "      <td>-0.080328</td>\n",
              "      <td>0.448971</td>\n",
              "      <td>2.080754</td>\n",
              "      <td>-1.535373</td>\n",
              "      <td>-0.460125</td>\n",
              "    </tr>\n",
              "    <tr>\n",
              "      <th>1</th>\n",
              "      <td>-0.223940</td>\n",
              "      <td>-1.277836</td>\n",
              "      <td>-0.202433</td>\n",
              "      <td>-0.317682</td>\n",
              "      <td>0.081900</td>\n",
              "      <td>-0.624267</td>\n",
              "      <td>-0.577119</td>\n",
              "      <td>-0.489564</td>\n",
              "      <td>0.704099</td>\n",
              "      <td>-0.511071</td>\n",
              "      <td>0.076101</td>\n",
              "      <td>-1.217522</td>\n",
              "      <td>-0.477477</td>\n",
              "      <td>0.220850</td>\n",
              "      <td>0.966988</td>\n",
              "      <td>-0.279581</td>\n",
              "      <td>-0.205285</td>\n",
              "      <td>0.661044</td>\n",
              "      <td>0.758141</td>\n",
              "      <td>1.778832</td>\n",
              "      <td>-1.408703</td>\n",
              "      <td>-1.078691</td>\n",
              "      <td>1.279688</td>\n",
              "      <td>-1.539207</td>\n",
              "      <td>2.135928</td>\n",
              "      <td>1.717498</td>\n",
              "      <td>0.970281</td>\n",
              "      <td>-2.194893</td>\n",
              "      <td>-0.676945</td>\n",
              "      <td>0.122432</td>\n",
              "      <td>2.378683</td>\n",
              "      <td>1.713591</td>\n",
              "      <td>1.040545</td>\n",
              "      <td>-1.885866</td>\n",
              "      <td>-0.101027</td>\n",
              "      <td>0.262832</td>\n",
              "      <td>-1.398324</td>\n",
              "      <td>-2.024518</td>\n",
              "      <td>-0.054175</td>\n",
              "      <td>-1.400390</td>\n",
              "      <td>-2.753080</td>\n",
              "      <td>1.232945</td>\n",
              "      <td>2.067792</td>\n",
              "      <td>-1.506606</td>\n",
              "      <td>-0.231031</td>\n",
              "      <td>0.539077</td>\n",
              "      <td>0.820004</td>\n",
              "      <td>0.239548</td>\n",
              "      <td>-0.651596</td>\n",
              "      <td>1.925601</td>\n",
              "      <td>-1.241511</td>\n",
              "      <td>-0.125445</td>\n",
              "      <td>0.422991</td>\n",
              "      <td>-1.573660</td>\n",
              "      <td>0.381451</td>\n",
              "      <td>2.019609</td>\n",
              "      <td>2.177119</td>\n",
              "      <td>0.141252</td>\n",
              "      <td>-0.416310</td>\n",
              "      <td>0.997323</td>\n",
              "      <td>0.191239</td>\n",
              "      <td>-0.021367</td>\n",
              "      <td>0.722569</td>\n",
              "      <td>0.739358</td>\n",
              "      <td>-1.151793</td>\n",
              "      <td>-0.567762</td>\n",
              "      <td>-1.889817</td>\n",
              "      <td>-1.785572</td>\n",
              "      <td>-1.642833</td>\n",
              "      <td>-0.952549</td>\n",
              "      <td>-0.055943</td>\n",
              "      <td>-2.208109</td>\n",
              "      <td>0.027813</td>\n",
              "      <td>-1.663044</td>\n",
              "      <td>0.018190</td>\n",
              "      <td>-0.432993</td>\n",
              "      <td>1.204321</td>\n",
              "      <td>0.705121</td>\n",
              "      <td>-1.106140</td>\n",
              "      <td>0.145533</td>\n",
              "    </tr>\n",
              "    <tr>\n",
              "      <th>2</th>\n",
              "      <td>-0.278740</td>\n",
              "      <td>1.342790</td>\n",
              "      <td>-0.734591</td>\n",
              "      <td>0.618881</td>\n",
              "      <td>1.365690</td>\n",
              "      <td>-1.397553</td>\n",
              "      <td>-1.446412</td>\n",
              "      <td>-0.844917</td>\n",
              "      <td>0.845916</td>\n",
              "      <td>-1.574979</td>\n",
              "      <td>-0.767859</td>\n",
              "      <td>0.693988</td>\n",
              "      <td>0.124244</td>\n",
              "      <td>0.589478</td>\n",
              "      <td>-0.419683</td>\n",
              "      <td>-0.035639</td>\n",
              "      <td>-0.836333</td>\n",
              "      <td>-0.869424</td>\n",
              "      <td>-1.157095</td>\n",
              "      <td>-0.532805</td>\n",
              "      <td>-0.263510</td>\n",
              "      <td>-0.440501</td>\n",
              "      <td>0.390041</td>\n",
              "      <td>0.916101</td>\n",
              "      <td>-0.668868</td>\n",
              "      <td>-0.286824</td>\n",
              "      <td>-0.534406</td>\n",
              "      <td>-0.429503</td>\n",
              "      <td>-2.771670</td>\n",
              "      <td>-0.602572</td>\n",
              "      <td>-0.129020</td>\n",
              "      <td>-1.021554</td>\n",
              "      <td>0.399260</td>\n",
              "      <td>1.912757</td>\n",
              "      <td>1.827115</td>\n",
              "      <td>-0.154989</td>\n",
              "      <td>0.128429</td>\n",
              "      <td>1.756213</td>\n",
              "      <td>1.503970</td>\n",
              "      <td>0.901676</td>\n",
              "      <td>0.802264</td>\n",
              "      <td>-1.507242</td>\n",
              "      <td>-0.585753</td>\n",
              "      <td>3.344118</td>\n",
              "      <td>0.487079</td>\n",
              "      <td>0.098660</td>\n",
              "      <td>-0.098762</td>\n",
              "      <td>0.457524</td>\n",
              "      <td>1.222643</td>\n",
              "      <td>-0.028007</td>\n",
              "      <td>-0.365213</td>\n",
              "      <td>-1.867140</td>\n",
              "      <td>-0.597679</td>\n",
              "      <td>0.503900</td>\n",
              "      <td>-0.600594</td>\n",
              "      <td>0.548341</td>\n",
              "      <td>0.125513</td>\n",
              "      <td>0.280367</td>\n",
              "      <td>-1.479465</td>\n",
              "      <td>-0.365658</td>\n",
              "      <td>1.386850</td>\n",
              "      <td>1.781231</td>\n",
              "      <td>-0.147074</td>\n",
              "      <td>0.717838</td>\n",
              "      <td>1.986350</td>\n",
              "      <td>1.574289</td>\n",
              "      <td>1.434767</td>\n",
              "      <td>-0.277264</td>\n",
              "      <td>1.553029</td>\n",
              "      <td>-2.424243</td>\n",
              "      <td>-1.616313</td>\n",
              "      <td>2.144484</td>\n",
              "      <td>-1.110290</td>\n",
              "      <td>-0.524140</td>\n",
              "      <td>-2.176645</td>\n",
              "      <td>-1.903969</td>\n",
              "      <td>1.715735</td>\n",
              "      <td>0.054220</td>\n",
              "      <td>-1.125896</td>\n",
              "      <td>1.309994</td>\n",
              "    </tr>\n",
              "    <tr>\n",
              "      <th>3</th>\n",
              "      <td>0.585189</td>\n",
              "      <td>0.344587</td>\n",
              "      <td>1.512917</td>\n",
              "      <td>0.272105</td>\n",
              "      <td>0.480314</td>\n",
              "      <td>-0.688009</td>\n",
              "      <td>-1.473050</td>\n",
              "      <td>-0.732295</td>\n",
              "      <td>0.407361</td>\n",
              "      <td>0.900369</td>\n",
              "      <td>0.306265</td>\n",
              "      <td>-0.765166</td>\n",
              "      <td>1.985110</td>\n",
              "      <td>-1.824361</td>\n",
              "      <td>-0.336764</td>\n",
              "      <td>-1.196919</td>\n",
              "      <td>-0.083139</td>\n",
              "      <td>-1.154965</td>\n",
              "      <td>0.175914</td>\n",
              "      <td>-0.892023</td>\n",
              "      <td>-0.321279</td>\n",
              "      <td>1.490226</td>\n",
              "      <td>-1.018358</td>\n",
              "      <td>0.757521</td>\n",
              "      <td>0.866926</td>\n",
              "      <td>0.784751</td>\n",
              "      <td>0.606548</td>\n",
              "      <td>-1.807216</td>\n",
              "      <td>-0.995555</td>\n",
              "      <td>-1.634797</td>\n",
              "      <td>-1.381612</td>\n",
              "      <td>0.432286</td>\n",
              "      <td>-1.534879</td>\n",
              "      <td>-0.427202</td>\n",
              "      <td>0.394397</td>\n",
              "      <td>-0.874175</td>\n",
              "      <td>-0.582541</td>\n",
              "      <td>1.442002</td>\n",
              "      <td>0.621300</td>\n",
              "      <td>1.484469</td>\n",
              "      <td>0.273526</td>\n",
              "      <td>1.447198</td>\n",
              "      <td>-0.340053</td>\n",
              "      <td>-0.237852</td>\n",
              "      <td>-0.067035</td>\n",
              "      <td>-0.036284</td>\n",
              "      <td>1.191403</td>\n",
              "      <td>1.182448</td>\n",
              "      <td>1.577487</td>\n",
              "      <td>-2.716710</td>\n",
              "      <td>-0.325207</td>\n",
              "      <td>0.367415</td>\n",
              "      <td>-0.180079</td>\n",
              "      <td>1.163984</td>\n",
              "      <td>-0.357281</td>\n",
              "      <td>1.071593</td>\n",
              "      <td>-1.419090</td>\n",
              "      <td>-0.400283</td>\n",
              "      <td>-0.266127</td>\n",
              "      <td>-0.527501</td>\n",
              "      <td>0.135507</td>\n",
              "      <td>-1.535435</td>\n",
              "      <td>-1.118946</td>\n",
              "      <td>1.135051</td>\n",
              "      <td>0.078026</td>\n",
              "      <td>-0.384627</td>\n",
              "      <td>1.639979</td>\n",
              "      <td>1.742154</td>\n",
              "      <td>2.257614</td>\n",
              "      <td>-2.378504</td>\n",
              "      <td>1.107443</td>\n",
              "      <td>-0.948995</td>\n",
              "      <td>0.555096</td>\n",
              "      <td>0.645465</td>\n",
              "      <td>1.291971</td>\n",
              "      <td>0.690657</td>\n",
              "      <td>-0.322088</td>\n",
              "      <td>0.341865</td>\n",
              "      <td>-1.436627</td>\n",
              "      <td>0.231027</td>\n",
              "    </tr>\n",
              "    <tr>\n",
              "      <th>4</th>\n",
              "      <td>0.992821</td>\n",
              "      <td>-0.654237</td>\n",
              "      <td>2.431634</td>\n",
              "      <td>-1.167275</td>\n",
              "      <td>0.347093</td>\n",
              "      <td>0.772373</td>\n",
              "      <td>0.766213</td>\n",
              "      <td>-0.441367</td>\n",
              "      <td>0.632604</td>\n",
              "      <td>1.543905</td>\n",
              "      <td>-1.676134</td>\n",
              "      <td>0.361756</td>\n",
              "      <td>-0.956594</td>\n",
              "      <td>0.071616</td>\n",
              "      <td>-0.575713</td>\n",
              "      <td>0.820356</td>\n",
              "      <td>0.079818</td>\n",
              "      <td>-0.704633</td>\n",
              "      <td>-0.667759</td>\n",
              "      <td>-0.404613</td>\n",
              "      <td>1.721942</td>\n",
              "      <td>0.634215</td>\n",
              "      <td>-2.285844</td>\n",
              "      <td>-2.570027</td>\n",
              "      <td>-2.114492</td>\n",
              "      <td>-0.153576</td>\n",
              "      <td>-1.728655</td>\n",
              "      <td>0.068181</td>\n",
              "      <td>-0.026057</td>\n",
              "      <td>-1.816587</td>\n",
              "      <td>1.452416</td>\n",
              "      <td>1.951323</td>\n",
              "      <td>1.973244</td>\n",
              "      <td>1.232185</td>\n",
              "      <td>3.044668</td>\n",
              "      <td>-0.241264</td>\n",
              "      <td>1.175860</td>\n",
              "      <td>0.661383</td>\n",
              "      <td>0.340450</td>\n",
              "      <td>0.225031</td>\n",
              "      <td>-0.947072</td>\n",
              "      <td>-1.821058</td>\n",
              "      <td>1.660139</td>\n",
              "      <td>0.170073</td>\n",
              "      <td>2.076426</td>\n",
              "      <td>0.162327</td>\n",
              "      <td>-1.267537</td>\n",
              "      <td>-0.012396</td>\n",
              "      <td>0.888598</td>\n",
              "      <td>1.138839</td>\n",
              "      <td>0.424200</td>\n",
              "      <td>0.238612</td>\n",
              "      <td>-0.518459</td>\n",
              "      <td>1.989186</td>\n",
              "      <td>1.165035</td>\n",
              "      <td>-0.905656</td>\n",
              "      <td>-0.051935</td>\n",
              "      <td>-1.745639</td>\n",
              "      <td>1.163001</td>\n",
              "      <td>-1.553856</td>\n",
              "      <td>-1.343524</td>\n",
              "      <td>-3.001371</td>\n",
              "      <td>0.790522</td>\n",
              "      <td>0.157444</td>\n",
              "      <td>0.307453</td>\n",
              "      <td>1.412944</td>\n",
              "      <td>-0.502916</td>\n",
              "      <td>-1.308427</td>\n",
              "      <td>1.197972</td>\n",
              "      <td>1.556835</td>\n",
              "      <td>0.088682</td>\n",
              "      <td>1.357311</td>\n",
              "      <td>0.739249</td>\n",
              "      <td>-0.213874</td>\n",
              "      <td>0.521273</td>\n",
              "      <td>-0.885125</td>\n",
              "      <td>-1.262695</td>\n",
              "      <td>0.974920</td>\n",
              "      <td>1.139357</td>\n",
              "      <td>-0.104045</td>\n",
              "    </tr>\n",
              "  </tbody>\n",
              "</table>\n",
              "</div>"
            ],
            "text/plain": [
              "          0         1         2  ...        77        78        79\n",
              "0 -0.238399 -1.311330 -0.782298  ...  2.080754 -1.535373 -0.460125\n",
              "1 -0.223940 -1.277836 -0.202433  ...  0.705121 -1.106140  0.145533\n",
              "2 -0.278740  1.342790 -0.734591  ...  0.054220 -1.125896  1.309994\n",
              "3  0.585189  0.344587  1.512917  ...  0.341865 -1.436627  0.231027\n",
              "4  0.992821 -0.654237  2.431634  ...  0.974920  1.139357 -0.104045\n",
              "\n",
              "[5 rows x 80 columns]"
            ]
          },
          "metadata": {
            "tags": []
          },
          "execution_count": 23
        }
      ]
    },
    {
      "cell_type": "code",
      "metadata": {
        "colab": {
          "base_uri": "https://localhost:8080/"
        },
        "id": "dgxVADb109BN",
        "outputId": "8e4409db-402f-4e39-d54d-b4fefd78a9e0"
      },
      "source": [
        "data.shape"
      ],
      "execution_count": null,
      "outputs": [
        {
          "output_type": "execute_result",
          "data": {
            "text/plain": [
              "(3000, 80)"
            ]
          },
          "metadata": {
            "tags": []
          },
          "execution_count": 10
        }
      ]
    },
    {
      "cell_type": "code",
      "metadata": {
        "colab": {
          "base_uri": "https://localhost:8080/"
        },
        "id": "sAAP-2hW1Bhw",
        "outputId": "3d96a275-f784-4c5f-e9fa-13435a6b15a9"
      },
      "source": [
        "D = data.shape[1]\r\n",
        "scores = np.zeros(D-1)\r\n",
        "for d in range(1, D):  \r\n",
        "  model = PCA(n_components=d)\r\n",
        "  scores[d-1] = cv_score(model, data, cv=3).mean()\r\n",
        "d_opt = np.argmax(scores)+1\r\n",
        "d_opt"
      ],
      "execution_count": null,
      "outputs": [
        {
          "output_type": "execute_result",
          "data": {
            "text/plain": [
              "20"
            ]
          },
          "metadata": {
            "tags": []
          },
          "execution_count": 24
        }
      ]
    },
    {
      "cell_type": "code",
      "metadata": {
        "colab": {
          "base_uri": "https://localhost:8080/",
          "height": 282
        },
        "id": "whHDoAwQAkdz",
        "outputId": "211437c2-5c25-442b-d055-9c1c44a10468"
      },
      "source": [
        "# write_answer_1(d_opt)\r\n",
        "plot_scores(scores)"
      ],
      "execution_count": null,
      "outputs": [
        {
          "output_type": "display_data",
          "data": {
            "image/png": "[encoded data removed]",
            "text/plain": [
              "<Figure size 432x288 with 1 Axes>"
            ]
          },
          "metadata": {
            "tags": [],
            "needs_background": "light"
          }
        }
      ]
    },
    {
      "cell_type": "markdown",
      "metadata": {
        "id": "kz9TvpnAsA10"
      },
      "source": [
        "## Вариационный взгляд на модель\n",
        "\n",
        "Мы знаем, что каждой главной компоненте соответствует описываемая ей дисперсия данных (дисперсия данных при проекции на эту компоненту). Она численно равна значению диагональных элементов матрицы $\\Lambda$, получаемой из спектрального разложения матрицы ковариации данных (смотри теорию выше).\n",
        "\n",
        "Исходя из этого, мы можем отсортировать дисперсию данных вдоль этих компонент по убыванию, и уменьшить размерность данных, отбросив $q$ итоговых главных компонент, имеющих наименьшую дисперсию.\n",
        "\n",
        "Делать это можно двумя разными способами. Например, если вы вдальнейшем обучаете на данных с уменьшенной размерностью модель классификации или регрессии, то можно запустить итерационный процесс: удалять компоненты с наименьшей дисперсией по одной, пока качество итоговой модели не станет значительно хуже.\n",
        "\n",
        "Более общий способ отбора признаков заключается в том, что вы можете посмотреть на разности в дисперсиях в отсортированном ряде $\\lambda_{(1)} > \\lambda_{(2)} > \\dots > \\lambda_{(D)}$: $\\lambda_{(1)}-\\lambda_{(2)}, \\dots, \\lambda_{(D-1)} - \\lambda_{(D)}$, и удалить те компоненты, на которых разность будет наибольшей. Именно этим методом вам и предлагается воспользоваться для тестового набора данных."
      ]
    },
    {
      "cell_type": "markdown",
      "metadata": {
        "id": "hNh-FGkxsA11"
      },
      "source": [
        "## Задание 2. Ручное уменьшение размерности признаков посредством анализа дисперсии данных вдоль главных компонент\n",
        "\n",
        "Рассмотрим ещё один набор данных размерности $D$, чья реальная размерность значительно меньше наблюдаемой (назовём её также $d$). От вас требуется:\n",
        "\n",
        "1. Построить модель PCA с $D$ главными компонентами по этим данным.\n",
        "2. Спроецировать данные на главные компоненты.\n",
        "3. Оценить их дисперсию вдоль главных компонент.\n",
        "4. Отсортировать дисперсии в порядке убывания и получить их попарные разности: $\\lambda_{(i-1)} - \\lambda_{(i)}$.\n",
        "5. Найти разность с наибольшим значением и получить по ней оценку на эффективную размерность данных $\\hat{d}$.\n",
        "6. Построить график дисперсий и убедиться, что полученная оценка на $\\hat{d}_{opt}$ действительно имеет смысл, после этого внести полученное значение $\\hat{d}_{opt}$ в файл ответа.\n",
        "\n",
        "Для построения модели PCA используйте функцию:\n",
        "\n",
        "    model.fit(data)\n",
        "    \n",
        "Для трансформации данных используйте метод:\n",
        "\n",
        "    model.transform(data)\n",
        "    \n",
        "Оценку дисперсий на трансформированных данных от вас потребуется реализовать вручную. Для построения графиков можно воспользоваться функцией\n",
        "\n",
        "    plot_variances(d_variances)\n",
        "    \n",
        "которой следует передать на вход отсортированный по убыванию вектор дисперсий вдоль компонент."
      ]
    },
    {
      "cell_type": "code",
      "metadata": {
        "id": "PsgRB6-NsA11",
        "colab": {
          "base_uri": "https://localhost:8080/"
        },
        "outputId": "606c2411-9bac-4f29-adc6-384c327b439c"
      },
      "source": [
        "from sklearn.decomposition import PCA\n",
        "from sklearn.model_selection import cross_val_score as cv_score\n",
        "\n",
        "def plot_variances(d_variances):\n",
        "    n_components = np.arange(1,d_variances.size+1)\n",
        "    plt.plot(n_components, d_variances, 'b', label='Component variances')\n",
        "    plt.xlim(n_components[0], n_components[-1])\n",
        "    plt.xlabel('n components')\n",
        "    plt.ylabel('variance')\n",
        "    plt.legend(loc='upper right')\n",
        "    plt.show()\n",
        "    \n",
        "def write_answer_2(optimal_d):\n",
        "    with open(\"pca_answer2.txt\", \"w\") as fout:\n",
        "        fout.write(str(optimal_d))\n",
        "        \n",
        "data = pd.read_csv('/content/drive/MyDrive/Colab Notebooks/data_task2.csv')\n",
        "data.shape\n",
        "\n",
        "# place your code here"
      ],
      "execution_count": null,
      "outputs": [
        {
          "output_type": "execute_result",
          "data": {
            "text/plain": [
              "(3000, 100)"
            ]
          },
          "metadata": {
            "tags": []
          },
          "execution_count": 13
        }
      ]
    },
    {
      "cell_type": "code",
      "metadata": {
        "colab": {
          "base_uri": "https://localhost:8080/",
          "height": 282
        },
        "id": "CtL-g3TFQkD0",
        "outputId": "a3098304-3814-4058-edcf-8279bde3fb6b"
      },
      "source": [
        "model = PCA(n_components=data.shape[1])\r\n",
        "model.fit(data)\r\n",
        "t_data = model.transform(data)\r\n",
        "variances = np.var(t_data, axis=0)\r\n",
        "variances.sort()\r\n",
        "variances = variances[::-1]\r\n",
        "plot_variances(variances)"
      ],
      "execution_count": null,
      "outputs": [
        {
          "output_type": "display_data",
          "data": {
            "image/png": "[encoded data removed]",
            "text/plain": [
              "<Figure size 432x288 with 1 Axes>"
            ]
          },
          "metadata": {
            "tags": [],
            "needs_background": "light"
          }
        }
      ]
    },
    {
      "cell_type": "code",
      "metadata": {
        "colab": {
          "base_uri": "https://localhost:8080/"
        },
        "id": "0fpWa4odbGCU",
        "outputId": "bdd9033e-f909-4cba-8d0f-3c47ecdb48c3"
      },
      "source": [
        "diff=[]\r\n",
        "for i in range(data.shape[1]-1):\r\n",
        "  diff.append(variances[i]-variances[i+1])\r\n",
        "d_opt = np.argmax(diff)+1\r\n",
        "# write_answer_2(d_opt)\r\n",
        "d_opt"
      ],
      "execution_count": null,
      "outputs": [
        {
          "output_type": "execute_result",
          "data": {
            "text/plain": [
              "30"
            ]
          },
          "metadata": {
            "tags": []
          },
          "execution_count": 15
        }
      ]
    },
    {
      "cell_type": "markdown",
      "metadata": {
        "id": "C_3L3FSFsA11"
      },
      "source": [
        "## Интерпретация главных компонент\n",
        "\n",
        "В качестве главных компонент мы получаем линейные комбинации исходных призанков, поэтому резонно возникает вопрос об их интерпретации.\n",
        "\n",
        "Для этого существует несколько подходов, мы рассмотрим два:\n",
        "- рассчитать взаимосвязи главных компонент с исходными признаками\n",
        "- рассчитать вклады каждого конкретного наблюдения в главные компоненты\n",
        "\n",
        "Первый способ подходит в том случае, когда все объекты из набора данных не несут для нас никакой семантической информации, которая уже не запечатлена в наборе признаков.\n",
        "\n",
        "Второй способ подходит для случая, когда данные имеют более сложную структуру. Например, лица для человека несут больший семантический смысл, чем вектор значений пикселей, которые анализирует PCA.\n",
        "\n",
        "Рассмотрим подробнее способ 1: он заключается в подсчёте коэффициентов корреляций между исходными признаками и набором главных компонент.\n",
        "\n",
        "Так как метод главных компонент является линейным, то предлагается для анализа использовать корреляцию Пирсона, выборочный аналог которой имеет следующую формулу:\n",
        "\n",
        "$$r_{jk} = \\frac{\\sum_{i=1}^N (x_{ij} - \\bar{x}_j) (y_{ik} - \\bar{y}_k)}{\\sqrt{\\sum_{i=1}^N (x_{ij} - \\bar{x}_j)^2 \\sum_{i=1}^N (y_{ik} - \\bar{y}_k)^2}} $$\n",
        "\n",
        "где:\n",
        "- $\\bar{x}_j$ -- среднее значение j-го признака,\n",
        "- $\\bar{y}_k$ -- среднее значение проекции на k-ю главную компоненту.\n",
        "\n",
        "Корреляция Пирсона является мерой линейной зависимости. Она равна 0 в случае, когда величины независимы, и $\\pm 1$, если они линейно зависимы. Исходя из степени корреляции новой компоненты с исходными признаками, можно строить её семантическую интерпретацию, т.к. смысл исходных признаков мы знаем."
      ]
    },
    {
      "cell_type": "markdown",
      "metadata": {
        "id": "8aIvTixfsA12"
      },
      "source": [
        "## Задание 3. Анализ главных компонент при помощи корреляций с исходными признаками.\n",
        "\n",
        "1. Обучите метод главных компонент на датасете iris, получите преобразованные данные.\n",
        "2. Посчитайте корреляции исходных признаков с их проекциями на первые две главные компоненты.\n",
        "3. Для каждого признака найдите компоненту (из двух построенных), с которой он коррелирует больше всего.\n",
        "4. На основании п.3 сгруппируйте признаки по компонентам. Составьте два списка: список номеров признаков, которые сильнее коррелируют с первой компонентой, и такой же список для второй. Нумерацию начинать с единицы. Передайте оба списка функции write_answer_3.\n",
        "\n",
        "Набор данных состоит из 4 признаков, посчитанных для 150 ирисов. Каждый из них принадлежит одному из трёх видов. Визуализацию проекции данного датасета на две компоненты, которые описывают наибольшую дисперсию данных, можно получить при помощи функции\n",
        "\n",
        "    plot_iris(transformed_data, target, target_names)\n",
        "    \n",
        "на вход которой требуется передать данные, преобразованные при помощи PCA, а также информацию о классах. Цвет точек отвечает одному из трёх видов ириса.\n",
        "\n",
        "Для того чтобы получить имена исходных признаков, используйте следующий список:\n",
        "\n",
        "    iris.feature_names\n",
        "    \n",
        "При подсчёте корреляций не забудьте центрировать признаки и проекции на главные компоненты (вычитать из них среднее)."
      ]
    },
    {
      "cell_type": "code",
      "metadata": {
        "id": "LbfTLos1sA12",
        "colab": {
          "base_uri": "https://localhost:8080/",
          "height": 269
        },
        "outputId": "941abb6a-05ac-4a00-d1f1-07651a7e8b97"
      },
      "source": [
        "from sklearn import datasets\n",
        "\n",
        "def plot_iris(transformed_data, target, target_names):\n",
        "    plt.figure()\n",
        "    for c, i, target_name in zip(\"rgb\", [0, 1, 2], target_names):\n",
        "        plt.scatter(transformed_data[target == i, 0],\n",
        "                    transformed_data[target == i, 1], c=c, label=target_name)\n",
        "    plt.legend()\n",
        "    plt.show()\n",
        "    \n",
        "def write_answer_3(list_pc1, list_pc2):\n",
        "    with open(\"pca_answer3.txt\", \"w\") as fout:\n",
        "        fout.write(\" \".join([str(num) for num in list_pc1]))\n",
        "        fout.write(\" \")\n",
        "        fout.write(\" \".join([str(num) for num in list_pc2]))\n",
        "\n",
        "# загрузим датасет iris\n",
        "iris = datasets.load_iris()\n",
        "data = iris.data\n",
        "target = iris.target\n",
        "target_names = iris.target_names\n",
        "\n",
        "# place your code here\n",
        "model = PCA(n_components=2)\n",
        "model.fit(data)\n",
        "t_data = model.transform(data)\n",
        "plot_iris(t_data, target, target_names)"
      ],
      "execution_count": null,
      "outputs": [
        {
          "output_type": "display_data",
          "data": {
            "image/png": "[encoded data removed]",
            "text/plain": [
              "<Figure size 432x288 with 1 Axes>"
            ]
          },
          "metadata": {
            "tags": [],
            "needs_background": "light"
          }
        }
      ]
    },
    {
      "cell_type": "code",
      "metadata": {
        "colab": {
          "base_uri": "https://localhost:8080/"
        },
        "id": "wFwXdnOiovw8",
        "outputId": "0f55aa2f-26e6-46b6-d2ec-261e6c61ee54"
      },
      "source": [
        "pc_list1 = []\r\n",
        "pc_list2 = []\r\n",
        "\r\n",
        "pc1 = t_data[:, 0]\r\n",
        "pc2 = t_data[:, 1]\r\n",
        "\r\n",
        "for idx in range(data.shape[1]):\r\n",
        "    corr1 = np.corrcoef((pc1, data[:, idx]))\r\n",
        "    corr2 = np.corrcoef((pc2, data[:, idx]))\r\n",
        "    \r\n",
        "    if corr1[0, 1] > corr2[0, 1]:\r\n",
        "        pc_list1.append(idx + 1)\r\n",
        "    else:\r\n",
        "        pc_list2.append(idx + 1)\r\n",
        "# write_answer_3(pc_list1, pc_list2)\r\n",
        "pc_list1, pc_list2"
      ],
      "execution_count": null,
      "outputs": [
        {
          "output_type": "execute_result",
          "data": {
            "text/plain": [
              "([1, 3, 4], [2])"
            ]
          },
          "metadata": {
            "tags": []
          },
          "execution_count": 17
        }
      ]
    },
    {
      "cell_type": "markdown",
      "metadata": {
        "id": "E2mEPvgosA12"
      },
      "source": [
        "## Интерпретация главных компонент с использованием данных\n",
        "\n",
        "Рассмотрим теперь величину, которую можно проинтерпретировать, как квадрат косинуса угла между объектом выборки и главной компонентой:\n",
        "\n",
        "$$ cos^2_{ik} = \\frac{f_{ik}^2}{\\sum_{\\ell=1}^d f_{i\\ell}^2} $$\n",
        "\n",
        "где\n",
        "- i -- номер объекта\n",
        "- k -- номер главной компоненты\n",
        "- $f_{ik}$ -- модуль центрированной проекции объекта на компоненту\n",
        "\n",
        "Очевидно, что\n",
        "\n",
        "$$ \\sum_{k=1}^d cos^2_{ik} = 1 $$\n",
        "\n",
        "Это значит, что для каждого объекта мы в виде данной величины получили веса, пропорциональные вкладу, которую вносит данный объект в дисперсию каждой компоненты. Чем больше вклад, тем более значим объект для описания конкретной главной компоненты."
      ]
    },
    {
      "cell_type": "markdown",
      "metadata": {
        "id": "iAyBUMtMsA13"
      },
      "source": [
        "## Задание 4. Анализ главных компонент при помощи вкладов в их дисперсию отдельных объектов\n",
        "\n",
        "1. Загрузите датасет лиц Olivetti Faces и обучите на нём модель RandomizedPCA (используется при большом количестве признаков и работает быстрее, чем обычный PCA). Получите проекции признаков на 10 первых главных компонент.\n",
        "2. Посчитайте для каждого объекта его относительный вклад в дисперсию каждой из 10 компонент, используя формулу из предыдущего раздела (d = 10).\n",
        "3. Для каждой компоненты найдите и визуализируйте лицо, которое вносит наибольший относительный вклад в неё. Для визуализации используйте функцию\n",
        "\n",
        "        plt.imshow(image.reshape(image_shape))\n",
        "        \n",
        "4. Передайте в функцию write_answer_4 список номеров лиц с наибольшим относительным вкладом в дисперсию каждой из компонент, список начинается с 0."
      ]
    },
    {
      "cell_type": "code",
      "metadata": {
        "scrolled": true,
        "id": "AlMnsuVTsA13"
      },
      "source": [
        "from sklearn.datasets import fetch_olivetti_faces\n",
        "from sklearn.decomposition import PCA\n",
        "\n",
        "def write_answer_4(list_pc):\n",
        "    with open(\"pca_answer4.txt\", \"w\") as fout:\n",
        "        fout.write(\" \".join([str(num) for num in list_pc]))\n",
        "\n",
        "data = fetch_olivetti_faces(shuffle=True, random_state=0).data\n",
        "image_shape = (64, 64)"
      ],
      "execution_count": null,
      "outputs": []
    },
    {
      "cell_type": "code",
      "metadata": {
        "colab": {
          "base_uri": "https://localhost:8080/"
        },
        "id": "pVzbXqW_vrXm",
        "outputId": "104c5cea-ac93-48d7-f5da-e719da73127d"
      },
      "source": [
        "model = PCA(n_components=10, svd_solver='randomized')\r\n",
        "model.fit(data)\r\n",
        "t_data = model.transform(data) \r\n",
        "f = abs(t_data - np.mean(t_data, axis=0))\r\n",
        "cos = f**2 / np.sum(f**2, axis=1).reshape(len(t_data), 1)\r\n",
        "idxs = np.argmax(cos, axis=0)\r\n",
        "# write_answer_4(idxs)\r\n",
        "idxs"
      ],
      "execution_count": null,
      "outputs": [
        {
          "output_type": "execute_result",
          "data": {
            "text/plain": [
              "array([197,  18,  66, 319, 363, 131, 142, 382, 353, 140])"
            ]
          },
          "metadata": {
            "tags": []
          },
          "execution_count": 19
        }
      ]
    },
    {
      "cell_type": "code",
      "metadata": {
        "id": "qh9eOcRt6cAs"
      },
      "source": [
        "for idx in idxs:  \r\n",
        "  plt.figure()\r\n",
        "  plt.imshow(data[idx].reshape(image_shape))"
      ],
      "execution_count": null,
      "outputs": []
    },
    {
      "cell_type": "markdown",
      "metadata": {
        "id": "USmo7wGOsA13"
      },
      "source": [
        "## Анализ основных недостатков метода главных компонент\n",
        "\n",
        "Рассмотренные выше задачи являются, безусловно, модельными, потому что данные для них были сгенерированы в соответствии с предположениями метода главных компонент. На практике эти предположения, естественно, выполняются далеко не всегда. Рассмотрим типичные ошибки PCA, которые следует иметь в виду перед тем, как его применять."
      ]
    },
    {
      "cell_type": "markdown",
      "metadata": {
        "id": "mB-63gsJsA13"
      },
      "source": [
        "### Направления с максимальной дисперсией в данных неортогональны\n",
        "\n",
        "Рассмотрим случай выборки, которая сгенерирована из двух вытянутых нормальных распределений:"
      ]
    },
    {
      "cell_type": "code",
      "metadata": {
        "id": "iNubibo7sA13",
        "colab": {
          "base_uri": "https://localhost:8080/",
          "height": 300
        },
        "outputId": "7b086b60-8a90-455f-dde2-d36119ab5d24"
      },
      "source": [
        "C1 = np.array([[10,0],[0,0.5]])\n",
        "phi = np.pi/3\n",
        "C2 = np.dot(C1, np.array([[np.cos(phi), np.sin(phi)],\n",
        "                          [-np.sin(phi),np.cos(phi)]]))\n",
        "\n",
        "data = np.vstack([np.random.multivariate_normal(mu, C1, size=50),\n",
        "                  np.random.multivariate_normal(mu, C2, size=50)])\n",
        "plt.scatter(data[:,0], data[:,1])\n",
        "# построим истинные интересующие нас компоненты\n",
        "plt.plot(data[:,0], np.zeros(data[:,0].size), color=\"g\")\n",
        "plt.plot(data[:,0], 3**0.5*data[:,0], color=\"g\")\n",
        "# обучим модель pca и построим главные компоненты\n",
        "model = PCA(n_components=2)\n",
        "model.fit(data)\n",
        "plot_principal_components(data, model, scatter=False, legend=False)\n",
        "c_patch = mpatches.Patch(color='c', label='Principal components')\n",
        "plt.legend(handles=[g_patch, c_patch])\n",
        "plt.draw()"
      ],
      "execution_count": null,
      "outputs": [
        {
          "output_type": "stream",
          "text": [
            "/usr/local/lib/python3.6/dist-packages/ipykernel_launcher.py:7: RuntimeWarning: covariance is not positive-semidefinite.\n",
            "  import sys\n"
          ],
          "name": "stderr"
        },
        {
          "output_type": "display_data",
          "data": {
            "image/png": "[encoded data removed]",
            "text/plain": [
              "<Figure size 432x288 with 1 Axes>"
            ]
          },
          "metadata": {
            "tags": [],
            "needs_background": "light"
          }
        }
      ]
    },
    {
      "cell_type": "markdown",
      "metadata": {
        "id": "CZm-Bga9sA14"
      },
      "source": [
        "В чём проблема, почему pca здесь работает плохо? Ответ прост: интересующие нас компоненты в данных коррелированны между собой (или неортогональны, в зависимости от того, какой терминологией пользоваться). Для поиска подобных преобразований требуются более сложные методы, которые уже выходят за рамки метода главных компонент.\n",
        "\n",
        "Для интересующихся: то, что можно применить непосредственно к выходу метода главных компонент, для получения подобных неортогональных преобразований, называется методами ротации. Почитать о них можно в связи с другим методом уменьшения размерности, который называется Factor Analysis (FA), но ничего не мешает их применять и к главным компонентам."
      ]
    },
    {
      "cell_type": "markdown",
      "metadata": {
        "id": "-sLT7tmpsA15"
      },
      "source": [
        "### Интересное направление в данных не совпадает с направлением максимальной дисперсии\n",
        "\n",
        "Рассмотрим пример, когда дисперсии не отражают интересующих нас направлений в данных:"
      ]
    },
    {
      "cell_type": "code",
      "metadata": {
        "id": "bOCCs_52sA15",
        "colab": {
          "base_uri": "https://localhost:8080/",
          "height": 265
        },
        "outputId": "131039f1-d236-4f1d-df76-b49a377fe3d3"
      },
      "source": [
        "C = np.array([[0.5,0],[0,10]])\n",
        "mu1 = np.array([-2,0])\n",
        "mu2 = np.array([2,0])\n",
        "\n",
        "data = np.vstack([np.random.multivariate_normal(mu1, C, size=50),\n",
        "                  np.random.multivariate_normal(mu2, C, size=50)])\n",
        "plt.scatter(data[:,0], data[:,1])\n",
        "# обучим модель pca и построим главные компоненты\n",
        "model = PCA(n_components=2)\n",
        "model.fit(data)\n",
        "plot_principal_components(data, model)\n",
        "plt.draw()"
      ],
      "execution_count": null,
      "outputs": [
        {
          "output_type": "display_data",
          "data": {
            "image/png": "[encoded data removed]",
            "text/plain": [
              "<Figure size 432x288 with 1 Axes>"
            ]
          },
          "metadata": {
            "tags": [],
            "needs_background": "light"
          }
        }
      ]
    },
    {
      "cell_type": "markdown",
      "metadata": {
        "id": "v0VEyY4DsA15"
      },
      "source": [
        "Очевидно, что в данном случае метод главных компонент будет считать вертикальную компоненту более значимой для описания набора данных, чем горизонтальную. \n",
        "\n",
        "Но, например, в случае, когда данные из левого и правого кластера относятся к разным классам, для их линейной разделимости вертикальная компонента является шумовой. Несмотря на это, её метод главных компонент никогда шумовой не признает, и есть вероятность, что отбор признаков с его помощью выкинет из ваших данных значимые для решаемой вами задачи компоненты просто потому, что вдоль них значения имеют низкую дисперсию.\n",
        "\n",
        "Справляться с такими ситуациями могут некоторые другие методы уменьшения размерности данных, например, метод независимых компонент (Independent Component Analysis, ICA)."
      ]
    }
  ]
}