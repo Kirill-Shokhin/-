{
 "cells": [
  {
   "cell_type": "markdown",
   "metadata": {},
   "source": [
    "# Обнаружение статистически значимых отличий в уровнях экспрессии генов больных раком\n",
    "#### В этом задании вы:\n",
    "* вспомните, что такое t-критерий Стьюдента и для чего он применяется\n",
    "* сможете применить технику множественной проверки гипотез и увидеть собственными глазами, как она работает на реальных данных\n",
    "* почувствуете разницу в результатах применения различных методов поправки на множественную проверку\n",
    "\n",
    "## Описание используемых данных\n",
    "Данные для этой задачи взяты из исследования, проведенного в Stanford School of Medicine. В исследовании была предпринята попытка выявить набор  генов, которые позволили  бы более точно диагностировать возникновение рака груди на самых ранних стадиях.\n",
    "\n",
    "В эксперименте принимали участие 24 человек, у которых не было рака груди (normal), 25 человек, у которых это заболевание было диагностировано на ранней стадии (early neoplasia), и 23 человека с сильно выраженными симптомами (cancer).\n",
    "\n",
    "Ученые провели секвенирование биологического материала испытуемых, чтобы понять, какие из этих генов наиболее активны в клетках больных людей. \n",
    "\n",
    "Секвенирование — это определение степени активности генов в анализируемом образце с помощью подсчёта количества соответствующей каждому гену РНК.\n",
    "\n",
    "В данных для этого задания вы найдете именно эту количественную меру активности каждого из 15748 генов у каждого из 72 человек, принимавших участие в эксперименте.\n",
    "\n",
    "Вам нужно будет определить те гены, активность которых у людей в разных стадиях заболевания отличается статистически значимо.\n",
    "\n",
    "Кроме того, вам нужно будет оценить не только статистическую, но и практическую значимость этих результатов, которая часто используется в подобных исследованиях.\n",
    "\n",
    "Диагноз человека содержится в столбце под названием \"Diagnosis\".\n",
    "\n",
    "## Практическая значимость изменения\n",
    "Цель исследований — найти гены, средняя экспрессия которых отличается не только статистически значимо, но и достаточно сильно. В экспрессионных исследованиях для этого часто используется метрика, которая называется fold change (кратность изменения). \n",
    "\n",
    "Определяется она следующим образом:\n",
    "\\begin{equation*}\n",
    "F_c(C, T) = \n",
    " \\begin{cases}\n",
    "   \\frac{T}{C}, &\\text{$T>C$}\\\\\n",
    "   -\\frac{C}{T}, &\\text{$T<C$}\n",
    " \\end{cases}\n",
    "\\end{equation*}\n",
    "\n",
    "\n",
    "где  $C, T$ — средние значения экспрессии гена в control и treatment группах соответственно. По сути, fold change показывает, во сколько раз отличаются средние двух выборок.\n",
    "\n",
    "### Инструкции к решению задачи\n",
    "Задание состоит из трёх частей. Если не сказано обратное, то уровень значимости нужно принять равным ***0.05***."
   ]
  },
  {
   "cell_type": "markdown",
   "metadata": {},
   "source": [
    "#### Загрузка данных:"
   ]
  },
  {
   "cell_type": "code",
   "execution_count": 1,
   "metadata": {},
   "outputs": [
    {
     "data": {
      "text/html": [
       "<div>\n",
       "<style scoped>\n",
       "    .dataframe tbody tr th:only-of-type {\n",
       "        vertical-align: middle;\n",
       "    }\n",
       "\n",
       "    .dataframe tbody tr th {\n",
       "        vertical-align: top;\n",
       "    }\n",
       "\n",
       "    .dataframe thead th {\n",
       "        text-align: right;\n",
       "    }\n",
       "</style>\n",
       "<table border=\"1\" class=\"dataframe\">\n",
       "  <thead>\n",
       "    <tr style=\"text-align: right;\">\n",
       "      <th></th>\n",
       "      <th>Patient_id</th>\n",
       "      <th>Diagnosis</th>\n",
       "      <th>LOC643837</th>\n",
       "      <th>LOC100130417</th>\n",
       "      <th>SAMD11</th>\n",
       "      <th>NOC2L</th>\n",
       "      <th>KLHL17</th>\n",
       "      <th>PLEKHN1</th>\n",
       "      <th>C1orf170</th>\n",
       "      <th>HES4</th>\n",
       "      <th>...</th>\n",
       "      <th>CLIC2</th>\n",
       "      <th>RPS4Y1</th>\n",
       "      <th>ZFY</th>\n",
       "      <th>PRKY</th>\n",
       "      <th>USP9Y</th>\n",
       "      <th>DDX3Y</th>\n",
       "      <th>CD24</th>\n",
       "      <th>CYorf15B</th>\n",
       "      <th>KDM5D</th>\n",
       "      <th>EIF1AY</th>\n",
       "    </tr>\n",
       "  </thead>\n",
       "  <tbody>\n",
       "    <tr>\n",
       "      <th>0</th>\n",
       "      <td>STT5425_Breast_001_normal</td>\n",
       "      <td>normal</td>\n",
       "      <td>1.257614</td>\n",
       "      <td>2.408148</td>\n",
       "      <td>13.368622</td>\n",
       "      <td>9.494779</td>\n",
       "      <td>20.880435</td>\n",
       "      <td>12.722017</td>\n",
       "      <td>9.494779</td>\n",
       "      <td>54.349694</td>\n",
       "      <td>...</td>\n",
       "      <td>4.761250</td>\n",
       "      <td>1.257614</td>\n",
       "      <td>1.257614</td>\n",
       "      <td>1.257614</td>\n",
       "      <td>1.257614</td>\n",
       "      <td>1.257614</td>\n",
       "      <td>23.268694</td>\n",
       "      <td>1.257614</td>\n",
       "      <td>1.257614</td>\n",
       "      <td>1.257614</td>\n",
       "    </tr>\n",
       "    <tr>\n",
       "      <th>1</th>\n",
       "      <td>STT5427_Breast_023_normal</td>\n",
       "      <td>normal</td>\n",
       "      <td>4.567931</td>\n",
       "      <td>16.602734</td>\n",
       "      <td>42.477752</td>\n",
       "      <td>25.562376</td>\n",
       "      <td>23.221137</td>\n",
       "      <td>11.622386</td>\n",
       "      <td>14.330573</td>\n",
       "      <td>72.445474</td>\n",
       "      <td>...</td>\n",
       "      <td>6.871902</td>\n",
       "      <td>1.815112</td>\n",
       "      <td>1.815112</td>\n",
       "      <td>1.815112</td>\n",
       "      <td>1.815112</td>\n",
       "      <td>1.815112</td>\n",
       "      <td>10.427023</td>\n",
       "      <td>1.815112</td>\n",
       "      <td>1.815112</td>\n",
       "      <td>1.815112</td>\n",
       "    </tr>\n",
       "    <tr>\n",
       "      <th>2</th>\n",
       "      <td>STT5430_Breast_002_normal</td>\n",
       "      <td>normal</td>\n",
       "      <td>2.077597</td>\n",
       "      <td>3.978294</td>\n",
       "      <td>12.863214</td>\n",
       "      <td>13.728915</td>\n",
       "      <td>14.543176</td>\n",
       "      <td>14.141907</td>\n",
       "      <td>6.232790</td>\n",
       "      <td>57.011005</td>\n",
       "      <td>...</td>\n",
       "      <td>7.096343</td>\n",
       "      <td>2.077597</td>\n",
       "      <td>2.077597</td>\n",
       "      <td>2.077597</td>\n",
       "      <td>2.077597</td>\n",
       "      <td>2.077597</td>\n",
       "      <td>22.344226</td>\n",
       "      <td>2.077597</td>\n",
       "      <td>2.077597</td>\n",
       "      <td>2.077597</td>\n",
       "    </tr>\n",
       "    <tr>\n",
       "      <th>3</th>\n",
       "      <td>STT5439_Breast_003_normal</td>\n",
       "      <td>normal</td>\n",
       "      <td>2.066576</td>\n",
       "      <td>8.520713</td>\n",
       "      <td>14.466035</td>\n",
       "      <td>7.823932</td>\n",
       "      <td>8.520713</td>\n",
       "      <td>2.066576</td>\n",
       "      <td>10.870009</td>\n",
       "      <td>53.292034</td>\n",
       "      <td>...</td>\n",
       "      <td>5.200770</td>\n",
       "      <td>2.066576</td>\n",
       "      <td>2.066576</td>\n",
       "      <td>2.066576</td>\n",
       "      <td>2.066576</td>\n",
       "      <td>2.066576</td>\n",
       "      <td>49.295538</td>\n",
       "      <td>2.066576</td>\n",
       "      <td>2.066576</td>\n",
       "      <td>2.066576</td>\n",
       "    </tr>\n",
       "    <tr>\n",
       "      <th>4</th>\n",
       "      <td>STT5441_Breast_004_normal</td>\n",
       "      <td>normal</td>\n",
       "      <td>2.613616</td>\n",
       "      <td>3.434965</td>\n",
       "      <td>12.682222</td>\n",
       "      <td>10.543189</td>\n",
       "      <td>26.688686</td>\n",
       "      <td>12.484822</td>\n",
       "      <td>1.364917</td>\n",
       "      <td>67.140393</td>\n",
       "      <td>...</td>\n",
       "      <td>11.227770</td>\n",
       "      <td>1.364917</td>\n",
       "      <td>1.364917</td>\n",
       "      <td>1.364917</td>\n",
       "      <td>1.364917</td>\n",
       "      <td>1.364917</td>\n",
       "      <td>23.627911</td>\n",
       "      <td>1.364917</td>\n",
       "      <td>1.364917</td>\n",
       "      <td>1.364917</td>\n",
       "    </tr>\n",
       "  </tbody>\n",
       "</table>\n",
       "<p>5 rows × 15750 columns</p>\n",
       "</div>"
      ],
      "text/plain": [
       "                  Patient_id Diagnosis  LOC643837  LOC100130417     SAMD11  \\\n",
       "0  STT5425_Breast_001_normal    normal   1.257614      2.408148  13.368622   \n",
       "1  STT5427_Breast_023_normal    normal   4.567931     16.602734  42.477752   \n",
       "2  STT5430_Breast_002_normal    normal   2.077597      3.978294  12.863214   \n",
       "3  STT5439_Breast_003_normal    normal   2.066576      8.520713  14.466035   \n",
       "4  STT5441_Breast_004_normal    normal   2.613616      3.434965  12.682222   \n",
       "\n",
       "       NOC2L     KLHL17    PLEKHN1   C1orf170       HES4  ...      CLIC2  \\\n",
       "0   9.494779  20.880435  12.722017   9.494779  54.349694  ...   4.761250   \n",
       "1  25.562376  23.221137  11.622386  14.330573  72.445474  ...   6.871902   \n",
       "2  13.728915  14.543176  14.141907   6.232790  57.011005  ...   7.096343   \n",
       "3   7.823932   8.520713   2.066576  10.870009  53.292034  ...   5.200770   \n",
       "4  10.543189  26.688686  12.484822   1.364917  67.140393  ...  11.227770   \n",
       "\n",
       "     RPS4Y1       ZFY      PRKY     USP9Y     DDX3Y       CD24  CYorf15B  \\\n",
       "0  1.257614  1.257614  1.257614  1.257614  1.257614  23.268694  1.257614   \n",
       "1  1.815112  1.815112  1.815112  1.815112  1.815112  10.427023  1.815112   \n",
       "2  2.077597  2.077597  2.077597  2.077597  2.077597  22.344226  2.077597   \n",
       "3  2.066576  2.066576  2.066576  2.066576  2.066576  49.295538  2.066576   \n",
       "4  1.364917  1.364917  1.364917  1.364917  1.364917  23.627911  1.364917   \n",
       "\n",
       "      KDM5D    EIF1AY  \n",
       "0  1.257614  1.257614  \n",
       "1  1.815112  1.815112  \n",
       "2  2.077597  2.077597  \n",
       "3  2.066576  2.066576  \n",
       "4  1.364917  1.364917  \n",
       "\n",
       "[5 rows x 15750 columns]"
      ]
     },
     "execution_count": 1,
     "metadata": {},
     "output_type": "execute_result"
    }
   ],
   "source": [
    "import pandas as pd\n",
    "import numpy as np\n",
    "import scipy\n",
    "import statsmodels.stats.multitest as smm\n",
    "from statsmodels.stats.weightstats import *\n",
    "\n",
    "data = pd.read_csv(\"gene_high_throughput_sequencing.csv\", header=0)\n",
    "data.head()"
   ]
  },
  {
   "cell_type": "markdown",
   "metadata": {},
   "source": [
    "### Часть 1: применение t-критерия Стьюдента\n",
    "В первой части вам нужно будет применить критерий Стьюдента для проверки гипотезы о равенстве средних в двух независимых выборках. Применить критерий для каждого гена нужно будет дважды:\n",
    "\n",
    "   1) для групп **normal (control)** и **early neoplasia (treatment)**  \n",
    "   2) для групп **early neoplasia (control)** и **cancer (treatment)**\n",
    "\n",
    "В качестве ответа в этой части задания необходимо указать количество статистически значимых отличий, которые вы нашли с помощью t-критерия Стьюдента, то есть число генов, у которых p-value этого теста оказался меньше, чем уровень значимости. "
   ]
  },
  {
   "cell_type": "code",
   "execution_count": 2,
   "metadata": {},
   "outputs": [],
   "source": [
    "normal = data.loc[data.Diagnosis == 'normal', data.columns[2:]].reset_index(drop=True)\n",
    "early = data.loc[data.Diagnosis == 'early neoplasia', data.columns[2:]].reset_index(drop=True)\n",
    "cancer = data.loc[data.Diagnosis == 'cancer', data.columns[2:]].reset_index(drop=True)\n",
    "data_columns = data.columns[2:]"
   ]
  },
  {
   "cell_type": "markdown",
   "metadata": {},
   "source": [
    "В первую очередь проверим признаки на нормальность критерием Шапиро-Уилка, и сразу делаем поправку методом Бенджамини-Хохберга, принимая признаки как независимые:"
   ]
  },
  {
   "cell_type": "code",
   "execution_count": 3,
   "metadata": {},
   "outputs": [],
   "source": [
    "shap_w = pd.DataFrame() \n",
    "for i, col_name in enumerate(data_columns):\n",
    "    shap_w.loc[i, 'normal'] = stats.shapiro(normal[col_name])[1]\n",
    "    shap_w.loc[i, 'early neoplasia'] = stats.shapiro(early[col_name])[1]\n",
    "    shap_w.loc[i, 'cancer'] = stats.shapiro(cancer[col_name])[1]"
   ]
  },
  {
   "cell_type": "code",
   "execution_count": 4,
   "metadata": {},
   "outputs": [],
   "source": [
    "shap_w['normal_corrected'] = smm.multipletests(shap_w['normal'], method=\"fdr_bh\")[1]\n",
    "shap_w['early_corrected'] = smm.multipletests(shap_w['early neoplasia'], method=\"fdr_bh\")[1]\n",
    "shap_w['cancer_corrected'] = smm.multipletests(shap_w['cancer'], method=\"fdr_bh\")[1]"
   ]
  },
  {
   "cell_type": "code",
   "execution_count": 5,
   "metadata": {},
   "outputs": [
    {
     "data": {
      "text/plain": [
       "normal              4134\n",
       "early neoplasia     3933\n",
       "cancer              4253\n",
       "normal_corrected    2306\n",
       "early_corrected     2086\n",
       "cancer_corrected    2334\n",
       "dtype: int64"
      ]
     },
     "execution_count": 5,
     "metadata": {},
     "output_type": "execute_result"
    }
   ],
   "source": [
    "(shap_w<0.05).sum()"
   ]
  },
  {
   "cell_type": "markdown",
   "metadata": {},
   "source": [
    "Итак, примерно 6/7 всех признаков распределены нормально.\n",
    "\n",
    "Важно вспомнить, что критерий Стьюдента для выборок с неизвестными дисперсиями также не всегда работает, только при условии:\n",
    "* $n_1 = n_2$, или\n",
    "* $[n_1 > n_2] = [\\sigma_1 > \\sigma_2]$\n",
    "\n",
    "В нашем случае все три выборки приблизитильно одинаковы по размеру.\n",
    "Теперь можно использовать критерий Стьюдента."
   ]
  },
  {
   "cell_type": "code",
   "execution_count": 6,
   "metadata": {},
   "outputs": [
    {
     "name": "stdout",
     "output_type": "stream",
     "text": [
      "Т-критерий Стьюдента для отличия распределений генов групп normal и early neoplasia:  1575\n",
      "Т-критерий Стьюдента для отличия распределений генов групп early neoplasia и cancer:  3490\n"
     ]
    }
   ],
   "source": [
    "def compare_genes_diffs(right, left, columns):\n",
    "    return [scipy.stats.ttest_ind(right[col_name], left[col_name], equal_var = False).pvalue for col_name in columns]\n",
    "\n",
    "ttest = pd.DataFrame()\n",
    "ttest['normal=early'] = compare_genes_diffs(normal, early, data_columns)\n",
    "ttest['early=cancer'] = compare_genes_diffs(early, cancer, data_columns)\n",
    "\n",
    "print('Т-критерий Стьюдента для отличия распределений генов групп normal и early neoplasia: ', (ttest<0.05).sum()[0])\n",
    "print('Т-критерий Стьюдента для отличия распределений генов групп early neoplasia и cancer: ', (ttest<0.05).sum()[1])"
   ]
  },
  {
   "cell_type": "markdown",
   "metadata": {},
   "source": [
    "### Часть 2: поправка методом Холма\n",
    "Для этой части задания вам понадобится модуль **multitest** из **statsmodels**.\n",
    "\n",
    "**import** *statsmodels.stats.multitest **as** *smm*\n",
    "\n",
    "В этой части задания нужно будет применить поправку Холма для получившихся двух наборов достигаемых уровней значимости из предыдущей части. Обратите внимание, что поскольку вы будете делать поправку для каждого из двух наборов **p-value** отдельно, то проблема, связанная с множественной проверкой останется.\n",
    "\n",
    "Для того, чтобы ее устранить, достаточно воспользоваться поправкой Бонферрони, то есть использовать уровень значимости ***0.05 / 2*** вместо ***0.05*** для дальнейшего уточнения значений **p-value** c помощью метода Холма.\n",
    "\n",
    "В качестве ответа к этому заданию требуется ввести количество значимых отличий в каждой группе после того, как произведена коррекция Холма-Бонферрони. Причем это число нужно ввести с учетом практической значимости: посчитайте для каждого значимого изменения fold change и выпишите в ответ число таких значимых изменений, абсолютное значение fold change которых больше, чем ***1.5***\n",
    "\n",
    "Обратите внимание, что:\n",
    "\n",
    "* применять поправку на множественную проверку  нужно  **ко всем  значениям достигаемых уровней значимости, а не только для тех, которые меньше значения уровня доверия.**  \n",
    "* при использовании поправки на уровне значимости ***0.025*** **меняются значения достигаемого уровня значимости, но не меняется значение уровня доверия** (то есть для отбора значимых изменений скорректированные значения уровня значимости нужно сравнивать с порогом ***0.025***, а не ***0.05***)!"
   ]
  },
  {
   "cell_type": "markdown",
   "metadata": {},
   "source": [
    "Количество статистически значимых генов с поправкой Холма:"
   ]
  },
  {
   "cell_type": "code",
   "execution_count": 7,
   "metadata": {},
   "outputs": [
    {
     "name": "stdout",
     "output_type": "stream",
     "text": [
      "normal и early neoplasia:  2.0\n",
      "early neoplasia и cancer:  79.0\n"
     ]
    }
   ],
   "source": [
    "ttest['n-e_rejects_holm'] = smm.multipletests(ttest['normal=early'], alpha=0.025, method=\"holm\")[0]\n",
    "ttest['e-c_rejects_holm'] = smm.multipletests(ttest['early=cancer'], alpha=0.025, method=\"holm\")[0]\n",
    "print('normal и early neoplasia: ', ttest.sum()[2])\n",
    "print ('early neoplasia и cancer: ', ttest.sum()[3])"
   ]
  },
  {
   "cell_type": "markdown",
   "metadata": {},
   "source": [
    "Количество практически значимых генов:"
   ]
  },
  {
   "cell_type": "code",
   "execution_count": 8,
   "metadata": {},
   "outputs": [
    {
     "data": {
      "text/plain": [
       "normal_early     261\n",
       "early_cancer    1071\n",
       "dtype: int64"
      ]
     },
     "execution_count": 8,
     "metadata": {},
     "output_type": "execute_result"
    }
   ],
   "source": [
    "def Fold_change(C, T, column):\n",
    "    C_mean = C[column].mean()\n",
    "    T_mean = T[column].mean()\n",
    "    return abs(T_mean/C_mean if T_mean > C_mean else -C_mean/T_mean)\n",
    "\n",
    "Fold_changes = pd.DataFrame()\n",
    "Fold_changes['normal_early'] = [Fold_change(normal, early, col_name) for col_name in data_columns]\n",
    "Fold_changes['early_cancer'] = [Fold_change(early, cancer, col_name) for col_name in data_columns]\n",
    "(Fold_changes > 1.5).sum()"
   ]
  },
  {
   "cell_type": "markdown",
   "metadata": {},
   "source": [
    "Количество статистически и практически значимых генов с поправкой Холма:"
   ]
  },
  {
   "cell_type": "code",
   "execution_count": 9,
   "metadata": {},
   "outputs": [
    {
     "name": "stdout",
     "output_type": "stream",
     "text": [
      "Количество генов со значимым отличием средней экспрессии между группами\n",
      "*   normal и early neoplasia:  2\n",
      "*   early neoplasia и cancer:  77\n"
     ]
    }
   ],
   "source": [
    "n_normal_early = len(Fold_changes.loc[(Fold_changes.normal_early>1.5) & (ttest['n-e_rejects_holm']), 'normal_early'])\n",
    "n_early_cancer = len(Fold_changes.loc[(Fold_changes.early_cancer>1.5) & (ttest['e-c_rejects_holm']), 'early_cancer'])\n",
    "print('Количество генов со значимым отличием средней экспрессии между группами')\n",
    "print('*   normal и early neoplasia: ', n_normal_early)\n",
    "print('*   early neoplasia и cancer: ', n_early_cancer)"
   ]
  },
  {
   "cell_type": "markdown",
   "metadata": {},
   "source": [
    "### Часть 3: поправка методом Бенджамини-Хохберга\n",
    "Данная часть задания аналогична второй части за исключением того, что нужно будет использовать метод Бенджамини-Хохберга.\n",
    "\n",
    " Обратите внимание, что методы коррекции, которые контролируют **FDR**, допускает больше ошибок первого рода и имеют большую мощность, чем методы, контролирующие **FWER**. Большая мощность означает, что эти методы будут совершать меньше ошибок второго рода (то есть будут лучше улавливать отклонения от $H_0$, когда они есть, и будут чаще отклонять $H_0$, когда отличий нет).\n",
    "\n",
    "В качестве ответа к этому заданию требуется  ввести количество значимых отличий в каждой группе после того, как произведена коррекция Бенджамини-Хохберга, причем так же, как и во второй части, считать только такие отличия, у которых ***abs(fold change) > 1.5***. \n",
    "\n",
    "**P.S.** Вспомните, какое значение имеет уровень значимости $\\alpha$ в каждой из поправок:  Холма и Бенджамини-Хохберга. Одинаковый ли смысл имеет уровень значимости в каждой из поправок?"
   ]
  },
  {
   "cell_type": "markdown",
   "metadata": {},
   "source": [
    "Количество статистически значимых генов c поправкой Бенджамини-Хохберга:"
   ]
  },
  {
   "cell_type": "code",
   "execution_count": 10,
   "metadata": {},
   "outputs": [
    {
     "name": "stdout",
     "output_type": "stream",
     "text": [
      "normal и early neoplasia::  4.0\n",
      "early neoplasia и cancer:  832.0\n"
     ]
    }
   ],
   "source": [
    "ttest['n-e_rejects_fdr_bh'] = smm.multipletests(ttest['normal=early'], alpha=0.025, method=\"fdr_bh\")[0]\n",
    "ttest['e-c_rejects_fdr_bh'] = smm.multipletests(ttest['early=cancer'], alpha=0.025, method=\"fdr_bh\")[0]\n",
    "print('normal и early neoplasia:: ', ttest.sum()[4])\n",
    "print ('early neoplasia и cancer: ', ttest.sum()[5])"
   ]
  },
  {
   "cell_type": "markdown",
   "metadata": {},
   "source": [
    "Количество статистически и практически значимых генов c поправкой Бенджамини-Хохберга:"
   ]
  },
  {
   "cell_type": "code",
   "execution_count": 11,
   "metadata": {},
   "outputs": [
    {
     "name": "stdout",
     "output_type": "stream",
     "text": [
      "Количество генов со значимым отличием средней экспрессии между группами\n",
      "*   normal и early neoplasia:  4\n",
      "*   early neoplasia и cancer:  524\n"
     ]
    }
   ],
   "source": [
    "n_normal_early = len(Fold_changes.loc[(Fold_changes.normal_early>1.5) & (ttest['n-e_rejects_fdr_bh']), 'normal_early'])\n",
    "n_early_cancer = len(Fold_changes.loc[(Fold_changes.early_cancer>1.5) & (ttest['e-c_rejects_fdr_bh']), 'early_cancer'])\n",
    "print('Количество генов со значимым отличием средней экспрессии между группами')\n",
    "print('*   normal и early neoplasia: ', n_normal_early)\n",
    "print('*   early neoplasia и cancer: ', n_early_cancer)"
   ]
  }
 ],
 "metadata": {
  "kernelspec": {
   "display_name": "Python 3",
   "language": "python",
   "name": "python3"
  },
  "language_info": {
   "codemirror_mode": {
    "name": "ipython",
    "version": 3
   },
   "file_extension": ".py",
   "mimetype": "text/x-python",
   "name": "python",
   "nbconvert_exporter": "python",
   "pygments_lexer": "ipython3",
   "version": "3.8.5"
  }
 },
 "nbformat": 4,
 "nbformat_minor": 4
}
