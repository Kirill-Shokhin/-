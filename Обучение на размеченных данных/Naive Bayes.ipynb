{
 "cells": [
  {
   "cell_type": "markdown",
   "metadata": {},
   "source": [
    "# Выбор семейства распределений в наивном байесе\n",
    "В этом задании вы сможете немного расслабиться после реализации случайного леса и градиентного бустинга по мотивам материалов прошлой недели. Все, что нужно будет делать — запускать методы из sklearn. Вам предлагается выяснить, какое распределение лучше использовать в наивном байесовском классификаторе в зависимости от вида признаков.\n",
    "\n",
    "Загрузите датасеты digits и breast_cancer из sklearn.datasets. Выведите несколько строчек из обучающих выборок и посмотрите на признаки. С помощью sklearn.cross_validation.cross_val_score c настройками по умолчанию и вызова метода mean() у возвращаемого этой функцией numpy.ndarray, сравните качество работы наивных байесовских классификаторов на этих двух датасетах. Для сравнения предлагается использовать BernoulliNB, MultinomialNB и GaussianNB. Насколько полученные результаты согласуются с рекомендациями из лекций?\n",
    "\n",
    "Два датасета, конечно, еще не повод делать далеко идущие выводы, но при желании вы можете продолжить исследование на других выборках (например, из UCI репозитория). "
   ]
  },
  {
   "cell_type": "code",
   "execution_count": 1,
   "metadata": {},
   "outputs": [
    {
     "name": "stdout",
     "output_type": "stream",
     "text": [
      "['malignant' 'benign']\n"
     ]
    }
   ],
   "source": [
    "from sklearn import datasets,  naive_bayes\n",
    "from sklearn.model_selection import cross_val_score\n",
    "digits = datasets.load_digits()\n",
    "cancer = datasets.load_breast_cancer()\n",
    "# print(breast_cancer['DESCR'])\n",
    "print(cancer.target_names)\n"
   ]
  },
  {
   "cell_type": "code",
   "execution_count": 2,
   "metadata": {},
   "outputs": [
    {
     "name": "stdout",
     "output_type": "stream",
     "text": [
      "### digits\n",
      "Bernoulli:  0.8241736304549674\n",
      "Multinomial:  0.8703497369235531\n",
      "Gaussian:  0.8069281956050759\n"
     ]
    }
   ],
   "source": [
    "print('### digits')\n",
    "print ('Bernoulli: ', cross_val_score(naive_bayes.BernoulliNB(), digits['data'], digits['target']).mean())\n",
    "print ('Multinomial: ', cross_val_score(naive_bayes.MultinomialNB(), digits['data'], digits['target']).mean())\n",
    "print ('Gaussian: ', cross_val_score(naive_bayes.GaussianNB(), digits['data'], digits['target']).mean())"
   ]
  },
  {
   "cell_type": "code",
   "execution_count": 3,
   "metadata": {},
   "outputs": [
    {
     "name": "stdout",
     "output_type": "stream",
     "text": [
      "### breast_cancer\n",
      "Bernoulli:  0.6274181027790716\n",
      "Multinomial:  0.8963204471355379\n",
      "Gaussian:  0.9385188635305075\n"
     ]
    }
   ],
   "source": [
    "print('### breast_cancer')\n",
    "print ('Bernoulli: ', cross_val_score(naive_bayes.BernoulliNB(), cancer['data'], cancer['target']).mean())\n",
    "print ('Multinomial: ', cross_val_score(naive_bayes.MultinomialNB(), cancer['data'], cancer['target']).mean())\n",
    "print ('Gaussian: ', cross_val_score(naive_bayes.GaussianNB(), cancer['data'], cancer['target']).mean())"
   ]
  },
  {
   "cell_type": "markdown",
   "metadata": {},
   "source": [
    "Для сдачи задания, ответьте на приведенные ниже вопросы.\n",
    "#### Вопрос 1\n",
    "\n",
    "Каким получилось максимальное качество классификации на датасете breast_cancer?\n",
    "\n",
    "0.9385188635305075"
   ]
  },
  {
   "cell_type": "markdown",
   "metadata": {},
   "source": [
    "#### Вопрос 2\n",
    "\n",
    "Каким получилось максимальное качество классификации на датасете digits?\n",
    "\n",
    "0.8703497369235531"
   ]
  },
  {
   "cell_type": "markdown",
   "metadata": {},
   "source": [
    "#### Вопрос 3\n",
    "\n",
    "Выберите верные утверждения и запишите их номера через пробел (в порядке возрастания номера):\n",
    "\n",
    "1) На вещественных признаках лучше всего сработал наивный байесовский классификатор с распределением Бернулли - Нет\n",
    "\n",
    "2) На вещественных признаках лучше всего сработал наивный байесовский классификатор с мультиномиальным распределением - Нет\n",
    "\n",
    "3) Мультиномиальное распределение лучше показало себя на выборке с целыми неотрицательными значениями признаков - Да\n",
    "\n",
    "4) На вещественных признаках лучше всего сработало нормальное распределение - Да"
   ]
  },
  {
   "cell_type": "code",
   "execution_count": 25,
   "metadata": {},
   "outputs": [
    {
     "data": {
      "text/plain": [
       "0.0"
      ]
     },
     "execution_count": 25,
     "metadata": {},
     "output_type": "execute_result"
    }
   ],
   "source": [
    "import numpy as np\n",
    "np.sum([digits['data'] % 1])"
   ]
  }
 ],
 "metadata": {
  "kernelspec": {
   "display_name": "Python 3",
   "language": "python",
   "name": "python3"
  },
  "language_info": {
   "codemirror_mode": {
    "name": "ipython",
    "version": 3
   },
   "file_extension": ".py",
   "mimetype": "text/x-python",
   "name": "python",
   "nbconvert_exporter": "python",
   "pygments_lexer": "ipython3",
   "version": "3.8.3"
  }
 },
 "nbformat": 4,
 "nbformat_minor": 4
}
